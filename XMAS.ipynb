{
 "cells": [
  {
   "cell_type": "code",
   "execution_count": 1,
   "id": "5be8f27f-124f-47f0-9afc-b4dad9cb87c1",
   "metadata": {},
   "outputs": [],
   "source": [
    "import pandas as pd\n",
    "import seaborn as sns\n",
    "import matplotlib.pyplot as plt\n",
    "import numpy as np\n",
    "import calendar\n",
    "from datetime import timedelta, datetime\n",
    "from sklearn.linear_model import LinearRegression\n",
    "from sklearn.model_selection import train_test_split, TimeSeriesSplit\n",
    "from sklearn.metrics import mean_absolute_percentage_error, mean_absolute_error\n",
    "from sklearn.ensemble import RandomForestRegressor\n",
    "from run import preprocessing\n",
    "from catboost import CatBoostRegressor, Pool, cv\n",
    "from tqdm import tqdm\n",
    "\n",
    "import warnings\n",
    "\n",
    "with warnings.catch_warnings():\n",
    "    warnings.simplefilter(\"ignore\", category=FutureWarning)\n"
   ]
  },
  {
   "cell_type": "code",
   "execution_count": 2,
   "id": "4cca5ae3-2c3b-4ecf-825e-4634397139c8",
   "metadata": {},
   "outputs": [],
   "source": [
    "train = pd.read_excel('D:/X/Данные для Хакатона Кейс 3 To send.xlsx', sheet_name='train')\n",
    "test = pd.read_excel('D:/X/Данные для Хакатона Кейс 3 To send.xlsx', sheet_name='test data')\n",
    "side_data = pd.read_excel('D:/X/Данные для Хакатона Кейс 3 To send.xlsx', sheet_name='TV Viewing', skipfooter=2, skiprows=2, index_col=0, header=1)"
   ]
  },
  {
   "cell_type": "code",
   "execution_count": 3,
   "id": "0b45c466-310a-4dd2-8874-a288bf0f3a1d",
   "metadata": {},
   "outputs": [],
   "source": [
    "train = train.drop('Break flight ID', axis=1)\n",
    "test = test.drop('Break flight ID', axis=1)"
   ]
  },
  {
   "cell_type": "code",
   "execution_count": 4,
   "id": "5528f845-ebb4-4fea-a022-3941f44bcf32",
   "metadata": {},
   "outputs": [],
   "source": [
    "side_data.index = range(1, 11)\n",
    "side_data.loc[len(side_data) + 1] = pd.Series({2021: np.nan, 2022: np.nan, 2023: np.nan})\n",
    "interpolated_data = pd.DataFrame(side_data.interpolate(method='cubicspline').apply(lambda x: x.mean(), axis=1), columns=['mean_viewing']).reset_index().rename(columns={'index': 'month', 'month': 'month'})\n"
   ]
  },
  {
   "cell_type": "markdown",
   "id": "d77ce92b-7435-4fe1-b4e1-5c435e28ff1a",
   "metadata": {},
   "source": [
    "# Eda"
   ]
  },
  {
   "cell_type": "markdown",
   "id": "6b3ff5ab-6e2e-476d-8d56-ea2801fb37fe",
   "metadata": {},
   "source": [
    "# target"
   ]
  },
  {
   "cell_type": "code",
   "execution_count": 5,
   "id": "1619c0a8-6a73-40cd-856f-bb6e42df5edb",
   "metadata": {},
   "outputs": [
    {
     "data": {
      "text/plain": [
       "<Axes: >"
      ]
     },
     "execution_count": 5,
     "metadata": {},
     "output_type": "execute_result"
    },
    {
     "data": {
      "image/png": "[encoded data removed]",
      "text/plain": [
       "<Figure size 640x480 with 1 Axes>"
      ]
     },
     "metadata": {},
     "output_type": "display_data"
    }
   ],
   "source": [
    "train['TVR Index'].hist(bins=20)"
   ]
  },
  {
   "cell_type": "code",
   "execution_count": 6,
   "id": "df5d076d-d2f9-454f-8708-6c3f7651d20e",
   "metadata": {},
   "outputs": [
    {
     "data": {
      "text/plain": [
       "count    30682.000000\n",
       "mean         1.003735\n",
       "std          0.609931\n",
       "min          0.000000\n",
       "25%          0.584708\n",
       "50%          0.944528\n",
       "75%          1.334333\n",
       "max          5.052474\n",
       "Name: TVR Index, dtype: float64"
      ]
     },
     "execution_count": 6,
     "metadata": {},
     "output_type": "execute_result"
    }
   ],
   "source": [
    "train['TVR Index'].describe()"
   ]
  },
  {
   "cell_type": "markdown",
   "id": "c7552a56-02bc-4285-be88-1a3e2cdc6d1d",
   "metadata": {},
   "source": [
    "Есть нулевые значения.  Если придется логарифмировать,  то прибавим постоянное число.\n",
    "Возможно это аномалия."
   ]
  },
  {
   "cell_type": "code",
   "execution_count": 7,
   "id": "0ada9f13-32dc-42fa-a4a1-31890f10ca60",
   "metadata": {},
   "outputs": [
    {
     "data": {
      "text/plain": [
       "110"
      ]
     },
     "execution_count": 7,
     "metadata": {},
     "output_type": "execute_result"
    }
   ],
   "source": [
    "(train['TVR Index'] == 0).sum()"
   ]
  },
  {
   "cell_type": "code",
   "execution_count": 8,
   "id": "a92f4361-6347-4b90-bcd0-321b8e27d50c",
   "metadata": {},
   "outputs": [
    {
     "data": {
      "text/plain": [
       "<Axes: >"
      ]
     },
     "execution_count": 8,
     "metadata": {},
     "output_type": "execute_result"
    },
    {
     "data": {
      "image/png": "[encoded data removed]",
      "text/plain": [
       "<Figure size 640x480 with 1 Axes>"
      ]
     },
     "metadata": {},
     "output_type": "display_data"
    }
   ],
   "source": [
    "np.log(train[train['TVR Index'] != 0]['TVR Index']).hist()"
   ]
  },
  {
   "cell_type": "markdown",
   "id": "86a3d7a3-d49a-42b8-bc98-97585bb03c5e",
   "metadata": {},
   "source": [
    "# Date"
   ]
  },
  {
   "cell_type": "code",
   "execution_count": 9,
   "id": "9ddb6d80-13fb-4707-aecb-9206a70a4d75",
   "metadata": {},
   "outputs": [],
   "source": [
    "def date_features(df):\n",
    "    \n",
    "    # df['is_leap'] = df['Date'].apply(lambda x: calendar.isleap(x.year)).astype(int)\n",
    "    df['is_cristmas'] = df['Date'].apply(lambda x: 0 < x.day_of_year <=  8).astype(int)\n",
    "    df['is_23_feb'] = df['Date'].apply(lambda x: x.day_of_year == 54).astype(int)\n",
    "    df['is_8_march'] = df['Date'].apply(lambda x: x.day_of_year == 68).astype(int)   \n",
    "    df['is_1_may'] = df['Date'].apply(lambda x: x.day_of_year == 122).astype(int)\n",
    "    df['is_9_may'] = df['Date'].apply(lambda x: x.day_of_year == 130).astype(int)\n",
    "    df['is_12_june'] = df['Date'].apply(lambda x: x.day_of_year == 164).astype(int)\n",
    "    df['is_4_nov'] = df['Date'].apply(lambda x: x.day_of_year == 308).astype(int)\n",
    "    df['is_weekend'] = df['Date'].apply(lambda x: 5 <= x.day_of_week <= 6).astype(int)\n",
    "\n",
    "    \n",
    "    return df"
   ]
  },
  {
   "cell_type": "markdown",
   "id": "575c8c39-225f-401c-910b-840b59af7510",
   "metadata": {},
   "source": [
    "# Break flight ID"
   ]
  },
  {
   "cell_type": "markdown",
   "id": "7e585eef-8d7a-488b-8eac-07a5f32c53dc",
   "metadata": {},
   "source": [
    "Колонка с уникальными значениями вряд-ли пригодится"
   ]
  },
  {
   "cell_type": "markdown",
   "id": "fe3ebbd7-1056-4e11-a458-263f127a30b4",
   "metadata": {},
   "source": [
    "# Break flight start | Break flight end\t"
   ]
  },
  {
   "cell_type": "code",
   "execution_count": 10,
   "id": "389ef6b6-098d-45ff-bdae-c5c910cf8cec",
   "metadata": {},
   "outputs": [],
   "source": [
    "def break_flight_features(df):\n",
    "    \n",
    "    def to_sec(break_flight_time):\n",
    "        res = int(break_flight_time.hour) * 3600 + int(break_flight_time.minute) * 60 + int(break_flight_time.second)\n",
    "        return res\n",
    "        \n",
    "    df = df.copy()\n",
    "    \n",
    "    df['Break flight start'] = df['Break flight start'].apply(lambda x: to_sec(x))\n",
    "    df['Break flight end'] = df['Break flight end'].apply(lambda x: to_sec(x))\n",
    "    df['Block_duration'] = df['Break flight end'] - df['Break flight start']\n",
    "    df.loc[df['Block_duration'] < 0, 'Block_duration'] += 24 * 3600  \n",
    "\n",
    "\n",
    "    \n",
    "    df['Programme flight start'] = df['Programme flight start'].apply(lambda x: to_sec(x))\n",
    "    df['Programme flight end'] = df['Programme flight end'].apply(lambda x: to_sec(x))\n",
    "    df['Programme_duration'] = df['Programme flight end'] - df['Programme flight start']\n",
    "    df.loc[df['Programme_duration'] < 0, 'Programme_duration'] += 24 * 3600  \n",
    "\n",
    "    df['hour'] = df['Break flight start'].apply(lambda x: x.hour)\n",
    "\n",
    "    return df\n"
   ]
  },
  {
   "cell_type": "markdown",
   "id": "32e7390d-feea-4d0a-9be3-57df35f800f1",
   "metadata": {},
   "source": [
    "# Break content"
   ]
  },
  {
   "cell_type": "code",
   "execution_count": 11,
   "id": "ba3c346e-bc8d-4e9d-96c2-377b1d87217f",
   "metadata": {},
   "outputs": [
    {
     "data": {
      "text/plain": [
       "<Axes: >"
      ]
     },
     "execution_count": 11,
     "metadata": {},
     "output_type": "execute_result"
    },
    {
     "data": {
      "image/png": "[encoded data removed]",
      "text/plain": [
       "<Figure size 640x480 with 1 Axes>"
      ]
     },
     "metadata": {},
     "output_type": "display_data"
    }
   ],
   "source": [
    "train['Break content'].hist()"
   ]
  },
  {
   "cell_type": "markdown",
   "id": "7207d672-b1ef-4915-a896-dec5ca760117",
   "metadata": {},
   "source": [
    "# Break distribution\t"
   ]
  },
  {
   "cell_type": "code",
   "execution_count": 12,
   "id": "02763ee6-bdb6-4bfe-8cc1-cc3cdac60feb",
   "metadata": {},
   "outputs": [
    {
     "data": {
      "text/html": [
       "<div>\n",
       "<style scoped>\n",
       "    .dataframe tbody tr th:only-of-type {\n",
       "        vertical-align: middle;\n",
       "    }\n",
       "\n",
       "    .dataframe tbody tr th {\n",
       "        vertical-align: top;\n",
       "    }\n",
       "\n",
       "    .dataframe thead th {\n",
       "        text-align: right;\n",
       "    }\n",
       "</style>\n",
       "<table border=\"1\" class=\"dataframe\">\n",
       "  <thead>\n",
       "    <tr style=\"text-align: right;\">\n",
       "      <th></th>\n",
       "      <th>TVR Index</th>\n",
       "      <th>Date</th>\n",
       "      <th>Break flight start</th>\n",
       "      <th>Break flight end</th>\n",
       "      <th>Break content</th>\n",
       "      <th>Break distribution</th>\n",
       "      <th>Programme</th>\n",
       "      <th>Programme flight start</th>\n",
       "      <th>Programme flight end</th>\n",
       "      <th>Programme category</th>\n",
       "      <th>Programme genre</th>\n",
       "    </tr>\n",
       "  </thead>\n",
       "  <tbody>\n",
       "    <tr>\n",
       "      <th>0</th>\n",
       "      <td>0.614693</td>\n",
       "      <td>2023-01-02</td>\n",
       "      <td>08:17:33</td>\n",
       "      <td>08:21:40</td>\n",
       "      <td>Commercial</td>\n",
       "      <td>Network</td>\n",
       "      <td>Telekanal \"Dobroe utro\"</td>\n",
       "      <td>08:00:13</td>\n",
       "      <td>10:00:14</td>\n",
       "      <td>Morning airplay</td>\n",
       "      <td>Entertainment programs</td>\n",
       "    </tr>\n",
       "    <tr>\n",
       "      <th>1</th>\n",
       "      <td>0.869565</td>\n",
       "      <td>2023-01-02</td>\n",
       "      <td>08:34:45</td>\n",
       "      <td>08:38:52</td>\n",
       "      <td>Commercial</td>\n",
       "      <td>Network</td>\n",
       "      <td>Telekanal \"Dobroe utro\"</td>\n",
       "      <td>08:00:13</td>\n",
       "      <td>10:00:14</td>\n",
       "      <td>Morning airplay</td>\n",
       "      <td>Entertainment programs</td>\n",
       "    </tr>\n",
       "    <tr>\n",
       "      <th>2</th>\n",
       "      <td>0.989505</td>\n",
       "      <td>2023-01-02</td>\n",
       "      <td>08:52:19</td>\n",
       "      <td>08:56:23</td>\n",
       "      <td>Commercial</td>\n",
       "      <td>Network</td>\n",
       "      <td>Telekanal \"Dobroe utro\"</td>\n",
       "      <td>08:00:13</td>\n",
       "      <td>10:00:14</td>\n",
       "      <td>Morning airplay</td>\n",
       "      <td>Entertainment programs</td>\n",
       "    </tr>\n",
       "    <tr>\n",
       "      <th>3</th>\n",
       "      <td>0.884558</td>\n",
       "      <td>2023-01-02</td>\n",
       "      <td>08:56:31</td>\n",
       "      <td>08:57:28</td>\n",
       "      <td>Announcement</td>\n",
       "      <td>Network</td>\n",
       "      <td>Telekanal \"Dobroe utro\"</td>\n",
       "      <td>08:00:13</td>\n",
       "      <td>10:00:14</td>\n",
       "      <td>Morning airplay</td>\n",
       "      <td>Entertainment programs</td>\n",
       "    </tr>\n",
       "  </tbody>\n",
       "</table>\n",
       "</div>"
      ],
      "text/plain": [
       "   TVR Index       Date Break flight start Break flight end Break content  \\\n",
       "0   0.614693 2023-01-02           08:17:33         08:21:40    Commercial   \n",
       "1   0.869565 2023-01-02           08:34:45         08:38:52    Commercial   \n",
       "2   0.989505 2023-01-02           08:52:19         08:56:23    Commercial   \n",
       "3   0.884558 2023-01-02           08:56:31         08:57:28  Announcement   \n",
       "\n",
       "  Break distribution                Programme Programme flight start  \\\n",
       "0            Network  Telekanal \"Dobroe utro\"               08:00:13   \n",
       "1            Network  Telekanal \"Dobroe utro\"               08:00:13   \n",
       "2            Network  Telekanal \"Dobroe utro\"               08:00:13   \n",
       "3            Network  Telekanal \"Dobroe utro\"               08:00:13   \n",
       "\n",
       "  Programme flight end Programme category         Programme genre  \n",
       "0             10:00:14    Morning airplay  Entertainment programs  \n",
       "1             10:00:14    Morning airplay  Entertainment programs  \n",
       "2             10:00:14    Morning airplay  Entertainment programs  \n",
       "3             10:00:14    Morning airplay  Entertainment programs  "
      ]
     },
     "execution_count": 12,
     "metadata": {},
     "output_type": "execute_result"
    }
   ],
   "source": [
    "train.head(4)"
   ]
  },
  {
   "cell_type": "code",
   "execution_count": 13,
   "id": "944c50a5-eb0a-480d-a0bb-9baca7c74439",
   "metadata": {},
   "outputs": [
    {
     "data": {
      "text/plain": [
       "<Axes: >"
      ]
     },
     "execution_count": 13,
     "metadata": {},
     "output_type": "execute_result"
    },
    {
     "data": {
      "image/png": "[encoded data removed]",
      "text/plain": [
       "<Figure size 640x480 with 1 Axes>"
      ]
     },
     "metadata": {},
     "output_type": "display_data"
    }
   ],
   "source": [
    "train['Break distribution'].hist()"
   ]
  },
  {
   "cell_type": "markdown",
   "id": "2b445a12-2422-4a2c-8e18-5948333869ff",
   "metadata": {},
   "source": [
    "# Programme"
   ]
  },
  {
   "cell_type": "code",
   "execution_count": 14,
   "id": "c20e12ea-9dc9-4aeb-9450-215d4e1b59f5",
   "metadata": {},
   "outputs": [],
   "source": [
    "category_programmes_count_by_genre = train.groupby('Programme genre').agg({\n",
    "                                                                            'Programme category': 'nunique', \n",
    "                                                                            'Programme': 'nunique'\n",
    "                                                                            }).reset_index()"
   ]
  },
  {
   "cell_type": "code",
   "execution_count": 15,
   "id": "0420a94d-d705-4e18-b2b7-8e8b2bc211eb",
   "metadata": {},
   "outputs": [
    {
     "data": {
      "text/html": [
       "<div>\n",
       "<style scoped>\n",
       "    .dataframe tbody tr th:only-of-type {\n",
       "        vertical-align: middle;\n",
       "    }\n",
       "\n",
       "    .dataframe tbody tr th {\n",
       "        vertical-align: top;\n",
       "    }\n",
       "\n",
       "    .dataframe thead th {\n",
       "        text-align: right;\n",
       "    }\n",
       "</style>\n",
       "<table border=\"1\" class=\"dataframe\">\n",
       "  <thead>\n",
       "    <tr style=\"text-align: right;\">\n",
       "      <th></th>\n",
       "      <th>Programme genre</th>\n",
       "      <th>Programme category</th>\n",
       "      <th>Programme</th>\n",
       "    </tr>\n",
       "  </thead>\n",
       "  <tbody>\n",
       "    <tr>\n",
       "      <th>0</th>\n",
       "      <td>Educational program</td>\n",
       "      <td>2</td>\n",
       "      <td>3</td>\n",
       "    </tr>\n",
       "    <tr>\n",
       "      <th>1</th>\n",
       "      <td>Entertainment programs</td>\n",
       "      <td>7</td>\n",
       "      <td>15</td>\n",
       "    </tr>\n",
       "    <tr>\n",
       "      <th>2</th>\n",
       "      <td>Musical programs</td>\n",
       "      <td>1</td>\n",
       "      <td>1</td>\n",
       "    </tr>\n",
       "    <tr>\n",
       "      <th>3</th>\n",
       "      <td>News</td>\n",
       "      <td>1</td>\n",
       "      <td>2</td>\n",
       "    </tr>\n",
       "    <tr>\n",
       "      <th>4</th>\n",
       "      <td>Social-political programs</td>\n",
       "      <td>2</td>\n",
       "      <td>5</td>\n",
       "    </tr>\n",
       "  </tbody>\n",
       "</table>\n",
       "</div>"
      ],
      "text/plain": [
       "             Programme genre  Programme category  Programme\n",
       "0        Educational program                   2          3\n",
       "1     Entertainment programs                   7         15\n",
       "2           Musical programs                   1          1\n",
       "3                       News                   1          2\n",
       "4  Social-political programs                   2          5"
      ]
     },
     "execution_count": 15,
     "metadata": {},
     "output_type": "execute_result"
    }
   ],
   "source": [
    "category_programmes_count_by_genre"
   ]
  },
  {
   "cell_type": "markdown",
   "id": "4ce1f3c8-93b7-47a6-a88f-df6f186da5e5",
   "metadata": {},
   "source": [
    "# Side data\n",
    "Среднее количество просмотров по месяцам"
   ]
  },
  {
   "cell_type": "code",
   "execution_count": 16,
   "id": "3669f99a-01be-40fd-85ac-c5425af7f260",
   "metadata": {},
   "outputs": [],
   "source": [
    "side_data = pd.read_excel('D:/X/Данные для Хакатона Кейс 3 To send.xlsx', sheet_name='TV Viewing', skipfooter=2, skiprows=2, index_col=0, header=1)"
   ]
  },
  {
   "cell_type": "code",
   "execution_count": 17,
   "id": "d3e34670-3415-4356-919d-7fcdd9a55ffb",
   "metadata": {
    "scrolled": true
   },
   "outputs": [
    {
     "data": {
      "text/html": [
       "<div>\n",
       "<style scoped>\n",
       "    .dataframe tbody tr th:only-of-type {\n",
       "        vertical-align: middle;\n",
       "    }\n",
       "\n",
       "    .dataframe tbody tr th {\n",
       "        vertical-align: top;\n",
       "    }\n",
       "\n",
       "    .dataframe thead th {\n",
       "        text-align: right;\n",
       "    }\n",
       "</style>\n",
       "<table border=\"1\" class=\"dataframe\">\n",
       "  <thead>\n",
       "    <tr style=\"text-align: right;\">\n",
       "      <th></th>\n",
       "      <th>2021</th>\n",
       "      <th>2022</th>\n",
       "      <th>2023</th>\n",
       "    </tr>\n",
       "  </thead>\n",
       "  <tbody>\n",
       "    <tr>\n",
       "      <th>Jan</th>\n",
       "      <td>327.924500</td>\n",
       "      <td>327.759667</td>\n",
       "      <td>319.902000</td>\n",
       "    </tr>\n",
       "    <tr>\n",
       "      <th>Feb</th>\n",
       "      <td>315.605500</td>\n",
       "      <td>329.407333</td>\n",
       "      <td>310.317167</td>\n",
       "    </tr>\n",
       "    <tr>\n",
       "      <th>Mar</th>\n",
       "      <td>302.231333</td>\n",
       "      <td>316.343000</td>\n",
       "      <td>298.144667</td>\n",
       "    </tr>\n",
       "    <tr>\n",
       "      <th>Apr</th>\n",
       "      <td>280.771333</td>\n",
       "      <td>296.078667</td>\n",
       "      <td>276.041667</td>\n",
       "    </tr>\n",
       "    <tr>\n",
       "      <th>May</th>\n",
       "      <td>265.527167</td>\n",
       "      <td>282.549833</td>\n",
       "      <td>263.562000</td>\n",
       "    </tr>\n",
       "    <tr>\n",
       "      <th>Jun</th>\n",
       "      <td>255.598000</td>\n",
       "      <td>260.931500</td>\n",
       "      <td>257.940000</td>\n",
       "    </tr>\n",
       "    <tr>\n",
       "      <th>Jul</th>\n",
       "      <td>256.821333</td>\n",
       "      <td>256.654500</td>\n",
       "      <td>252.891167</td>\n",
       "    </tr>\n",
       "    <tr>\n",
       "      <th>Aug</th>\n",
       "      <td>260.952667</td>\n",
       "      <td>259.474833</td>\n",
       "      <td>253.577500</td>\n",
       "    </tr>\n",
       "    <tr>\n",
       "      <th>Sep</th>\n",
       "      <td>274.169333</td>\n",
       "      <td>277.913833</td>\n",
       "      <td>262.384000</td>\n",
       "    </tr>\n",
       "    <tr>\n",
       "      <th>Oct</th>\n",
       "      <td>290.561000</td>\n",
       "      <td>291.953333</td>\n",
       "      <td>281.895167</td>\n",
       "    </tr>\n",
       "  </tbody>\n",
       "</table>\n",
       "</div>"
      ],
      "text/plain": [
       "           2021        2022        2023\n",
       "Jan  327.924500  327.759667  319.902000\n",
       "Feb  315.605500  329.407333  310.317167\n",
       "Mar  302.231333  316.343000  298.144667\n",
       "Apr  280.771333  296.078667  276.041667\n",
       "May  265.527167  282.549833  263.562000\n",
       "Jun  255.598000  260.931500  257.940000\n",
       "Jul  256.821333  256.654500  252.891167\n",
       "Aug  260.952667  259.474833  253.577500\n",
       "Sep  274.169333  277.913833  262.384000\n",
       "Oct  290.561000  291.953333  281.895167"
      ]
     },
     "execution_count": 17,
     "metadata": {},
     "output_type": "execute_result"
    }
   ],
   "source": [
    "side_data"
   ]
  },
  {
   "cell_type": "code",
   "execution_count": 18,
   "id": "89e67a01-0066-4368-92b5-1565fde12fa5",
   "metadata": {},
   "outputs": [
    {
     "data": {
      "text/plain": [
       "<Axes: >"
      ]
     },
     "execution_count": 18,
     "metadata": {},
     "output_type": "execute_result"
    },
    {
     "data": {
      "image/png": "[encoded data removed]",
      "text/plain": [
       "<Figure size 640x480 with 1 Axes>"
      ]
     },
     "metadata": {},
     "output_type": "display_data"
    }
   ],
   "source": [
    "side_data.plot()"
   ]
  },
  {
   "cell_type": "markdown",
   "id": "f346f6f7-8807-416c-b31a-44ee5923effe",
   "metadata": {},
   "source": [
    "Похоже на синусоиду. Проинтерполируем по куб. спинам"
   ]
  },
  {
   "cell_type": "code",
   "execution_count": 19,
   "id": "f0c7da13-b427-468d-9587-7bbb65033505",
   "metadata": {},
   "outputs": [
    {
     "data": {
      "text/html": [
       "<div>\n",
       "<style scoped>\n",
       "    .dataframe tbody tr th:only-of-type {\n",
       "        vertical-align: middle;\n",
       "    }\n",
       "\n",
       "    .dataframe tbody tr th {\n",
       "        vertical-align: top;\n",
       "    }\n",
       "\n",
       "    .dataframe thead th {\n",
       "        text-align: right;\n",
       "    }\n",
       "</style>\n",
       "<table border=\"1\" class=\"dataframe\">\n",
       "  <thead>\n",
       "    <tr style=\"text-align: right;\">\n",
       "      <th></th>\n",
       "      <th>2021</th>\n",
       "      <th>2022</th>\n",
       "      <th>2023</th>\n",
       "    </tr>\n",
       "  </thead>\n",
       "  <tbody>\n",
       "    <tr>\n",
       "      <th>Jan</th>\n",
       "      <td>327.924500</td>\n",
       "      <td>327.759667</td>\n",
       "      <td>319.902000</td>\n",
       "    </tr>\n",
       "    <tr>\n",
       "      <th>Feb</th>\n",
       "      <td>315.605500</td>\n",
       "      <td>329.407333</td>\n",
       "      <td>310.317167</td>\n",
       "    </tr>\n",
       "    <tr>\n",
       "      <th>Mar</th>\n",
       "      <td>302.231333</td>\n",
       "      <td>316.343000</td>\n",
       "      <td>298.144667</td>\n",
       "    </tr>\n",
       "    <tr>\n",
       "      <th>Apr</th>\n",
       "      <td>280.771333</td>\n",
       "      <td>296.078667</td>\n",
       "      <td>276.041667</td>\n",
       "    </tr>\n",
       "    <tr>\n",
       "      <th>May</th>\n",
       "      <td>265.527167</td>\n",
       "      <td>282.549833</td>\n",
       "      <td>263.562000</td>\n",
       "    </tr>\n",
       "    <tr>\n",
       "      <th>Jun</th>\n",
       "      <td>255.598000</td>\n",
       "      <td>260.931500</td>\n",
       "      <td>257.940000</td>\n",
       "    </tr>\n",
       "    <tr>\n",
       "      <th>Jul</th>\n",
       "      <td>256.821333</td>\n",
       "      <td>256.654500</td>\n",
       "      <td>252.891167</td>\n",
       "    </tr>\n",
       "    <tr>\n",
       "      <th>Aug</th>\n",
       "      <td>260.952667</td>\n",
       "      <td>259.474833</td>\n",
       "      <td>253.577500</td>\n",
       "    </tr>\n",
       "    <tr>\n",
       "      <th>Sep</th>\n",
       "      <td>274.169333</td>\n",
       "      <td>277.913833</td>\n",
       "      <td>262.384000</td>\n",
       "    </tr>\n",
       "    <tr>\n",
       "      <th>Oct</th>\n",
       "      <td>290.561000</td>\n",
       "      <td>291.953333</td>\n",
       "      <td>281.895167</td>\n",
       "    </tr>\n",
       "  </tbody>\n",
       "</table>\n",
       "</div>"
      ],
      "text/plain": [
       "           2021        2022        2023\n",
       "Jan  327.924500  327.759667  319.902000\n",
       "Feb  315.605500  329.407333  310.317167\n",
       "Mar  302.231333  316.343000  298.144667\n",
       "Apr  280.771333  296.078667  276.041667\n",
       "May  265.527167  282.549833  263.562000\n",
       "Jun  255.598000  260.931500  257.940000\n",
       "Jul  256.821333  256.654500  252.891167\n",
       "Aug  260.952667  259.474833  253.577500\n",
       "Sep  274.169333  277.913833  262.384000\n",
       "Oct  290.561000  291.953333  281.895167"
      ]
     },
     "execution_count": 19,
     "metadata": {},
     "output_type": "execute_result"
    }
   ],
   "source": [
    "side_data"
   ]
  },
  {
   "cell_type": "code",
   "execution_count": 20,
   "id": "4b52efa1-e57a-4894-ae3a-e348d3cef000",
   "metadata": {},
   "outputs": [],
   "source": [
    "side_data.index = range(1, 11)\n",
    "side_data.loc[len(side_data) + 1] = pd.Series({2021: np.nan, 2022: np.nan, 2023: np.nan})"
   ]
  },
  {
   "cell_type": "code",
   "execution_count": 21,
   "id": "1f17d89f-bb2f-433e-b85c-b20655c5995c",
   "metadata": {},
   "outputs": [
    {
     "data": {
      "text/html": [
       "<div>\n",
       "<style scoped>\n",
       "    .dataframe tbody tr th:only-of-type {\n",
       "        vertical-align: middle;\n",
       "    }\n",
       "\n",
       "    .dataframe tbody tr th {\n",
       "        vertical-align: top;\n",
       "    }\n",
       "\n",
       "    .dataframe thead th {\n",
       "        text-align: right;\n",
       "    }\n",
       "</style>\n",
       "<table border=\"1\" class=\"dataframe\">\n",
       "  <thead>\n",
       "    <tr style=\"text-align: right;\">\n",
       "      <th></th>\n",
       "      <th>2021</th>\n",
       "      <th>2022</th>\n",
       "      <th>2023</th>\n",
       "    </tr>\n",
       "  </thead>\n",
       "  <tbody>\n",
       "    <tr>\n",
       "      <th>1</th>\n",
       "      <td>327.924500</td>\n",
       "      <td>327.759667</td>\n",
       "      <td>319.902000</td>\n",
       "    </tr>\n",
       "    <tr>\n",
       "      <th>2</th>\n",
       "      <td>315.605500</td>\n",
       "      <td>329.407333</td>\n",
       "      <td>310.317167</td>\n",
       "    </tr>\n",
       "    <tr>\n",
       "      <th>3</th>\n",
       "      <td>302.231333</td>\n",
       "      <td>316.343000</td>\n",
       "      <td>298.144667</td>\n",
       "    </tr>\n",
       "    <tr>\n",
       "      <th>4</th>\n",
       "      <td>280.771333</td>\n",
       "      <td>296.078667</td>\n",
       "      <td>276.041667</td>\n",
       "    </tr>\n",
       "    <tr>\n",
       "      <th>5</th>\n",
       "      <td>265.527167</td>\n",
       "      <td>282.549833</td>\n",
       "      <td>263.562000</td>\n",
       "    </tr>\n",
       "    <tr>\n",
       "      <th>6</th>\n",
       "      <td>255.598000</td>\n",
       "      <td>260.931500</td>\n",
       "      <td>257.940000</td>\n",
       "    </tr>\n",
       "    <tr>\n",
       "      <th>7</th>\n",
       "      <td>256.821333</td>\n",
       "      <td>256.654500</td>\n",
       "      <td>252.891167</td>\n",
       "    </tr>\n",
       "    <tr>\n",
       "      <th>8</th>\n",
       "      <td>260.952667</td>\n",
       "      <td>259.474833</td>\n",
       "      <td>253.577500</td>\n",
       "    </tr>\n",
       "    <tr>\n",
       "      <th>9</th>\n",
       "      <td>274.169333</td>\n",
       "      <td>277.913833</td>\n",
       "      <td>262.384000</td>\n",
       "    </tr>\n",
       "    <tr>\n",
       "      <th>10</th>\n",
       "      <td>290.561000</td>\n",
       "      <td>291.953333</td>\n",
       "      <td>281.895167</td>\n",
       "    </tr>\n",
       "    <tr>\n",
       "      <th>11</th>\n",
       "      <td>NaN</td>\n",
       "      <td>NaN</td>\n",
       "      <td>NaN</td>\n",
       "    </tr>\n",
       "  </tbody>\n",
       "</table>\n",
       "</div>"
      ],
      "text/plain": [
       "          2021        2022        2023\n",
       "1   327.924500  327.759667  319.902000\n",
       "2   315.605500  329.407333  310.317167\n",
       "3   302.231333  316.343000  298.144667\n",
       "4   280.771333  296.078667  276.041667\n",
       "5   265.527167  282.549833  263.562000\n",
       "6   255.598000  260.931500  257.940000\n",
       "7   256.821333  256.654500  252.891167\n",
       "8   260.952667  259.474833  253.577500\n",
       "9   274.169333  277.913833  262.384000\n",
       "10  290.561000  291.953333  281.895167\n",
       "11         NaN         NaN         NaN"
      ]
     },
     "execution_count": 21,
     "metadata": {},
     "output_type": "execute_result"
    }
   ],
   "source": [
    "side_data"
   ]
  },
  {
   "cell_type": "code",
   "execution_count": 22,
   "id": "bc5226d5-dfe1-4e2c-b29d-d0231d1db7a8",
   "metadata": {},
   "outputs": [
    {
     "data": {
      "text/plain": [
       "<Axes: >"
      ]
     },
     "execution_count": 22,
     "metadata": {},
     "output_type": "execute_result"
    },
    {
     "data": {
      "image/png": "[encoded data removed]",
      "text/plain": [
       "<Figure size 640x480 with 1 Axes>"
      ]
     },
     "metadata": {},
     "output_type": "display_data"
    }
   ],
   "source": [
    "pd.DataFrame(side_data.interpolate(method='cubicspline').apply(lambda x: x.mean(), axis=1), columns=['mean_viewing']).plot()"
   ]
  },
  {
   "cell_type": "markdown",
   "id": "c1c6d03c-32a5-4199-aef7-b5b26f32fe6e",
   "metadata": {},
   "source": [
    "# Naive"
   ]
  },
  {
   "cell_type": "markdown",
   "id": "9c26f91e-f656-4493-8d6c-a16d7a62c889",
   "metadata": {},
   "source": [
    "# Greed"
   ]
  },
  {
   "cell_type": "code",
   "execution_count": 23,
   "id": "5bacda83-b1bf-4e5c-a0c6-90239a7cc5bf",
   "metadata": {
    "scrolled": true
   },
   "outputs": [
    {
     "name": "stderr",
     "output_type": "stream",
     "text": [
      "D:\\X\\run.py:101: FutureWarning: The default of observed=False is deprecated and will be changed to True in a future version of pandas. Pass observed=False to retain current behavior or observed=True to adopt the future default and silence this warning.\n",
      "  daypart_break_stats = df.groupby('part_of_day_break_start')['hour_break_start'].agg(mean_break_hours='mean',\n",
      "D:\\X\\run.py:101: FutureWarning: The default of observed=False is deprecated and will be changed to True in a future version of pandas. Pass observed=False to retain current behavior or observed=True to adopt the future default and silence this warning.\n",
      "  daypart_break_stats = df.groupby('part_of_day_break_start')['hour_break_start'].agg(mean_break_hours='mean',\n"
     ]
    }
   ],
   "source": [
    "train, test = preprocessing(train, test, interpolated_data)\n",
    "train = train.merge(interpolated_data, on='month')\n",
    "test = test.merge(interpolated_data, on='month')\n",
    "\n",
    "train['count_break_hours_mean_viewing'] = train['count_break_hours'] / train['mean_viewing']\n",
    "test['count_break_hours_mean_viewing'] = test['count_break_hours'] / test['mean_viewing']"
   ]
  },
  {
   "cell_type": "code",
   "execution_count": 24,
   "id": "89fc7dfc-8558-45cd-b69b-a5c45e8efd39",
   "metadata": {},
   "outputs": [],
   "source": [
    "X_train = train[train['month'] != 10].drop('TVR Index', axis=1).drop('Date', axis=1)\n",
    "y_train = train[train['month'] != 10]['TVR Index']"
   ]
  },
  {
   "cell_type": "code",
   "execution_count": 25,
   "id": "f3662a3b-91fc-4d17-92a5-6832c68ce1bd",
   "metadata": {},
   "outputs": [],
   "source": [
    "X_val = train[train['month'] == 10].drop('TVR Index', axis=1).drop('Date', axis=1)\n",
    "y_val = train[train['month'] == 10]['TVR Index']"
   ]
  },
  {
   "cell_type": "code",
   "execution_count": 26,
   "id": "3aae1bce-6480-4536-87f5-a03b66af5555",
   "metadata": {},
   "outputs": [
    {
     "data": {
      "text/plain": [
       "Index(['holiday', 'Block_duration', 'Programme_duration',\n",
       "       'Block_Programme_ratio', 'month', 'part_of_day_break_start',\n",
       "       'part_of_day_programme_start', 'part_of_day_programme_end',\n",
       "       'mean_break_hours', 'median_break_hours', 'count_break_hours',\n",
       "       'is_weekend', 'mean_viewing', 'count_break_hours_mean_viewing'],\n",
       "      dtype='object')"
      ]
     },
     "execution_count": 26,
     "metadata": {},
     "output_type": "execute_result"
    }
   ],
   "source": [
    "X_train.columns"
   ]
  },
  {
   "cell_type": "code",
   "execution_count": 27,
   "id": "ef8155d5-fa90-4b4f-b9c8-b7cae287ed9d",
   "metadata": {},
   "outputs": [],
   "source": [
    "def mean_absolute_percentage_error_castom(y_true, y_pred):\n",
    "    y_true, y_pred = np.array(y_true), np.array(y_pred)\n",
    "    return np.mean(np.abs((y_true - y_pred) / y_true)) * 100"
   ]
  },
  {
   "cell_type": "code",
   "execution_count": 28,
   "id": "cfc6f2fe-1d59-4bc8-815f-0b7dbc903b83",
   "metadata": {},
   "outputs": [],
   "source": [
    "cat_cols = [\n",
    "            'part_of_day_programme_start',\n",
    "            'part_of_day_programme_end',\n",
    "            'holiday',\n",
    "            'month',\n",
    "            # 'hour_break_start',\n",
    "            'part_of_day_break_start',\n",
    "            # 'hour_programme_start',\n",
    "            'part_of_day_programme_start',\n",
    "            # 'hour_programme_end',\n",
    "            'part_of_day_programme_end',\n",
    "             # 'is_cristmas',\n",
    "                # 'is_23_feb',\n",
    "                # 'is_8_march',\n",
    "                # 'is_1_may',\n",
    "                # 'is_9_may',\n",
    "                # 'is_12_june',\n",
    "                # 'is_4_nov',\n",
    "                'is_weekend'\n",
    "\n",
    "    \n",
    "           \n",
    "           ]\n",
    "cat_indices = [X_train.columns.tolist().index(i) for i in cat_cols]\n"
   ]
  },
  {
   "cell_type": "code",
   "execution_count": 29,
   "id": "2a5a9903-f51d-4d49-b61c-ac97785d4191",
   "metadata": {},
   "outputs": [
    {
     "data": {
      "text/plain": [
       "Index(['holiday', 'Block_duration', 'Programme_duration',\n",
       "       'Block_Programme_ratio', 'month', 'part_of_day_break_start',\n",
       "       'part_of_day_programme_start', 'part_of_day_programme_end',\n",
       "       'mean_break_hours', 'median_break_hours', 'count_break_hours',\n",
       "       'is_weekend', 'mean_viewing', 'count_break_hours_mean_viewing'],\n",
       "      dtype='object')"
      ]
     },
     "execution_count": 29,
     "metadata": {},
     "output_type": "execute_result"
    }
   ],
   "source": [
    "X_train.columns"
   ]
  },
  {
   "cell_type": "code",
   "execution_count": 30,
   "id": "d7cd692f-ffc7-4085-941a-5db6e0e5c29e",
   "metadata": {
    "scrolled": true
   },
   "outputs": [
    {
     "name": "stderr",
     "output_type": "stream",
     "text": [
      " 20%|████████████████▊                                                                   | 1/5 [00:04<00:16,  4.18s/it]"
     ]
    },
    {
     "name": "stdout",
     "output_type": "stream",
     "text": [
      "1.5497305959674685\n"
     ]
    },
    {
     "name": "stderr",
     "output_type": "stream",
     "text": [
      " 40%|█████████████████████████████████▌                                                  | 2/5 [00:10<00:15,  5.31s/it]"
     ]
    },
    {
     "name": "stdout",
     "output_type": "stream",
     "text": [
      "1.1764839656925925\n"
     ]
    },
    {
     "name": "stderr",
     "output_type": "stream",
     "text": [
      " 60%|██████████████████████████████████████████████████▍                                 | 3/5 [00:17<00:12,  6.03s/it]"
     ]
    },
    {
     "name": "stdout",
     "output_type": "stream",
     "text": [
      "1.624538905216111\n"
     ]
    },
    {
     "name": "stderr",
     "output_type": "stream",
     "text": [
      " 80%|███████████████████████████████████████████████████████████████████▏                | 4/5 [00:24<00:06,  6.50s/it]"
     ]
    },
    {
     "name": "stdout",
     "output_type": "stream",
     "text": [
      "0.7483043471471497\n"
     ]
    },
    {
     "name": "stderr",
     "output_type": "stream",
     "text": [
      "100%|████████████████████████████████████████████████████████████████████████████████████| 5/5 [00:32<00:00,  6.47s/it]\n"
     ]
    },
    {
     "name": "stdout",
     "output_type": "stream",
     "text": [
      "1.7571177648758047\n"
     ]
    },
    {
     "name": "stderr",
     "output_type": "stream",
     "text": [
      " 20%|████████████████▊                                                                   | 1/5 [00:05<00:22,  5.52s/it]"
     ]
    },
    {
     "name": "stdout",
     "output_type": "stream",
     "text": [
      "0.7050069004834303\n"
     ]
    },
    {
     "name": "stderr",
     "output_type": "stream",
     "text": [
      " 40%|█████████████████████████████████▌                                                  | 2/5 [00:11<00:17,  5.81s/it]"
     ]
    },
    {
     "name": "stdout",
     "output_type": "stream",
     "text": [
      "0.6038258012265983\n"
     ]
    },
    {
     "name": "stderr",
     "output_type": "stream",
     "text": [
      " 60%|██████████████████████████████████████████████████▍                                 | 3/5 [00:18<00:12,  6.36s/it]"
     ]
    },
    {
     "name": "stdout",
     "output_type": "stream",
     "text": [
      "0.6221508044961469\n"
     ]
    },
    {
     "name": "stderr",
     "output_type": "stream",
     "text": [
      " 80%|███████████████████████████████████████████████████████████████████▏                | 4/5 [00:25<00:06,  6.78s/it]"
     ]
    },
    {
     "name": "stdout",
     "output_type": "stream",
     "text": [
      "0.40084351563159776\n"
     ]
    },
    {
     "name": "stderr",
     "output_type": "stream",
     "text": [
      "100%|████████████████████████████████████████████████████████████████████████████████████| 5/5 [00:34<00:00,  6.84s/it]\n"
     ]
    },
    {
     "name": "stdout",
     "output_type": "stream",
     "text": [
      "0.6643338612334952\n"
     ]
    },
    {
     "name": "stderr",
     "output_type": "stream",
     "text": [
      " 20%|████████████████▊                                                                   | 1/5 [00:02<00:09,  2.25s/it]"
     ]
    },
    {
     "name": "stdout",
     "output_type": "stream",
     "text": [
      "0.5427753717316196\n"
     ]
    },
    {
     "name": "stderr",
     "output_type": "stream",
     "text": [
      " 40%|█████████████████████████████████▌                                                  | 2/5 [00:07<00:12,  4.09s/it]"
     ]
    },
    {
     "name": "stdout",
     "output_type": "stream",
     "text": [
      "0.44467215903718665\n"
     ]
    },
    {
     "name": "stderr",
     "output_type": "stream",
     "text": [
      " 60%|██████████████████████████████████████████████████▍                                 | 3/5 [00:10<00:06,  3.42s/it]"
     ]
    },
    {
     "name": "stdout",
     "output_type": "stream",
     "text": [
      "0.4596949290575394\n"
     ]
    },
    {
     "name": "stderr",
     "output_type": "stream",
     "text": [
      " 80%|███████████████████████████████████████████████████████████████████▏                | 4/5 [00:15<00:04,  4.27s/it]"
     ]
    },
    {
     "name": "stdout",
     "output_type": "stream",
     "text": [
      "0.3050132208788457\n"
     ]
    },
    {
     "name": "stderr",
     "output_type": "stream",
     "text": [
      "100%|████████████████████████████████████████████████████████████████████████████████████| 5/5 [00:18<00:00,  3.78s/it]\n"
     ]
    },
    {
     "name": "stdout",
     "output_type": "stream",
     "text": [
      "0.4956203914163655\n"
     ]
    },
    {
     "name": "stderr",
     "output_type": "stream",
     "text": [
      " 20%|████████████████▊                                                                   | 1/5 [00:01<00:04,  1.08s/it]"
     ]
    },
    {
     "name": "stdout",
     "output_type": "stream",
     "text": [
      "0.49725659216387735\n"
     ]
    },
    {
     "name": "stderr",
     "output_type": "stream",
     "text": [
      " 40%|█████████████████████████████████▌                                                  | 2/5 [00:04<00:06,  2.24s/it]"
     ]
    },
    {
     "name": "stdout",
     "output_type": "stream",
     "text": [
      "0.40843895978744393\n"
     ]
    },
    {
     "name": "stderr",
     "output_type": "stream",
     "text": [
      " 60%|██████████████████████████████████████████████████▍                                 | 3/5 [00:06<00:04,  2.20s/it]"
     ]
    },
    {
     "name": "stdout",
     "output_type": "stream",
     "text": [
      "0.4947132773606682\n"
     ]
    },
    {
     "name": "stderr",
     "output_type": "stream",
     "text": [
      " 80%|███████████████████████████████████████████████████████████████████▏                | 4/5 [00:09<00:02,  2.72s/it]"
     ]
    },
    {
     "name": "stdout",
     "output_type": "stream",
     "text": [
      "0.3085865989730184\n"
     ]
    },
    {
     "name": "stderr",
     "output_type": "stream",
     "text": [
      "100%|████████████████████████████████████████████████████████████████████████████████████| 5/5 [00:11<00:00,  2.29s/it]\n"
     ]
    },
    {
     "name": "stdout",
     "output_type": "stream",
     "text": [
      "0.5141807533680385\n"
     ]
    },
    {
     "name": "stderr",
     "output_type": "stream",
     "text": [
      " 20%|████████████████▊                                                                   | 1/5 [00:09<00:37,  9.41s/it]"
     ]
    },
    {
     "name": "stdout",
     "output_type": "stream",
     "text": [
      "1.3548720301037875\n"
     ]
    },
    {
     "name": "stderr",
     "output_type": "stream",
     "text": [
      " 40%|█████████████████████████████████▌                                                  | 2/5 [00:21<00:33, 11.19s/it]"
     ]
    },
    {
     "name": "stdout",
     "output_type": "stream",
     "text": [
      "1.0514867843571811\n"
     ]
    },
    {
     "name": "stderr",
     "output_type": "stream",
     "text": [
      " 60%|██████████████████████████████████████████████████▍                                 | 3/5 [00:42<00:31, 15.50s/it]"
     ]
    },
    {
     "name": "stdout",
     "output_type": "stream",
     "text": [
      "1.3986818662449652\n"
     ]
    },
    {
     "name": "stderr",
     "output_type": "stream",
     "text": [
      " 80%|███████████████████████████████████████████████████████████████████▏                | 4/5 [01:05<00:18, 18.57s/it]"
     ]
    },
    {
     "name": "stdout",
     "output_type": "stream",
     "text": [
      "0.6658565668609141\n"
     ]
    },
    {
     "name": "stderr",
     "output_type": "stream",
     "text": [
      "100%|████████████████████████████████████████████████████████████████████████████████████| 5/5 [01:27<00:00, 17.42s/it]\n"
     ]
    },
    {
     "name": "stdout",
     "output_type": "stream",
     "text": [
      "1.5130005780782527\n"
     ]
    },
    {
     "name": "stderr",
     "output_type": "stream",
     "text": [
      " 20%|████████████████▊                                                                   | 1/5 [00:12<00:49, 12.48s/it]"
     ]
    },
    {
     "name": "stdout",
     "output_type": "stream",
     "text": [
      "0.5570918011220548\n"
     ]
    },
    {
     "name": "stderr",
     "output_type": "stream",
     "text": [
      " 40%|█████████████████████████████████▌                                                  | 2/5 [00:23<00:34, 11.63s/it]"
     ]
    },
    {
     "name": "stdout",
     "output_type": "stream",
     "text": [
      "0.5407904106166745\n"
     ]
    },
    {
     "name": "stderr",
     "output_type": "stream",
     "text": [
      " 60%|██████████████████████████████████████████████████▍                                 | 3/5 [00:38<00:26, 13.28s/it]"
     ]
    },
    {
     "name": "stdout",
     "output_type": "stream",
     "text": [
      "0.4717602018336878\n"
     ]
    },
    {
     "name": "stderr",
     "output_type": "stream",
     "text": [
      " 80%|███████████████████████████████████████████████████████████████████▏                | 4/5 [00:58<00:16, 16.01s/it]"
     ]
    },
    {
     "name": "stdout",
     "output_type": "stream",
     "text": [
      "0.3403270075734303\n"
     ]
    },
    {
     "name": "stderr",
     "output_type": "stream",
     "text": [
      "100%|████████████████████████████████████████████████████████████████████████████████████| 5/5 [01:11<00:00, 14.28s/it]\n"
     ]
    },
    {
     "name": "stdout",
     "output_type": "stream",
     "text": [
      "0.5876914269197318\n"
     ]
    },
    {
     "name": "stderr",
     "output_type": "stream",
     "text": [
      " 20%|████████████████▊                                                                   | 1/5 [00:02<00:10,  2.63s/it]"
     ]
    },
    {
     "name": "stdout",
     "output_type": "stream",
     "text": [
      "0.5427753717316196\n"
     ]
    },
    {
     "name": "stderr",
     "output_type": "stream",
     "text": [
      " 40%|█████████████████████████████████▌                                                  | 2/5 [00:14<00:24,  8.20s/it]"
     ]
    },
    {
     "name": "stdout",
     "output_type": "stream",
     "text": [
      "0.4349995250612373\n"
     ]
    },
    {
     "name": "stderr",
     "output_type": "stream",
     "text": [
      " 60%|██████████████████████████████████████████████████▍                                 | 3/5 [00:17<00:11,  5.77s/it]"
     ]
    },
    {
     "name": "stdout",
     "output_type": "stream",
     "text": [
      "0.4596949290575394\n"
     ]
    },
    {
     "name": "stderr",
     "output_type": "stream",
     "text": [
      " 80%|███████████████████████████████████████████████████████████████████▏                | 4/5 [00:25<00:06,  6.53s/it]"
     ]
    },
    {
     "name": "stdout",
     "output_type": "stream",
     "text": [
      "0.3050132208788457\n"
     ]
    },
    {
     "name": "stderr",
     "output_type": "stream",
     "text": [
      "100%|████████████████████████████████████████████████████████████████████████████████████| 5/5 [00:28<00:00,  5.76s/it]\n"
     ]
    },
    {
     "name": "stdout",
     "output_type": "stream",
     "text": [
      "0.4956203914163655\n"
     ]
    },
    {
     "name": "stderr",
     "output_type": "stream",
     "text": [
      " 20%|████████████████▊                                                                   | 1/5 [00:01<00:05,  1.32s/it]"
     ]
    },
    {
     "name": "stdout",
     "output_type": "stream",
     "text": [
      "0.49725659216387735\n"
     ]
    },
    {
     "name": "stderr",
     "output_type": "stream",
     "text": [
      " 40%|█████████████████████████████████▌                                                  | 2/5 [00:04<00:07,  2.55s/it]"
     ]
    },
    {
     "name": "stdout",
     "output_type": "stream",
     "text": [
      "0.40843895978744393\n"
     ]
    },
    {
     "name": "stderr",
     "output_type": "stream",
     "text": [
      " 60%|██████████████████████████████████████████████████▍                                 | 3/5 [00:07<00:04,  2.48s/it]"
     ]
    },
    {
     "name": "stdout",
     "output_type": "stream",
     "text": [
      "0.4947132773606682\n"
     ]
    },
    {
     "name": "stderr",
     "output_type": "stream",
     "text": [
      " 80%|███████████████████████████████████████████████████████████████████▏                | 4/5 [00:11<00:03,  3.04s/it]"
     ]
    },
    {
     "name": "stdout",
     "output_type": "stream",
     "text": [
      "0.3085865989730184\n"
     ]
    },
    {
     "name": "stderr",
     "output_type": "stream",
     "text": [
      "100%|████████████████████████████████████████████████████████████████████████████████████| 5/5 [00:12<00:00,  2.57s/it]\n"
     ]
    },
    {
     "name": "stdout",
     "output_type": "stream",
     "text": [
      "0.5141807533680385\n"
     ]
    },
    {
     "name": "stderr",
     "output_type": "stream",
     "text": [
      " 20%|████████████████▊                                                                   | 1/5 [00:08<00:33,  8.40s/it]"
     ]
    },
    {
     "name": "stdout",
     "output_type": "stream",
     "text": [
      "1.5532011694133863\n"
     ]
    },
    {
     "name": "stderr",
     "output_type": "stream",
     "text": [
      " 40%|█████████████████████████████████▌                                                  | 2/5 [00:18<00:27,  9.16s/it]"
     ]
    },
    {
     "name": "stdout",
     "output_type": "stream",
     "text": [
      "1.168906044324999\n"
     ]
    },
    {
     "name": "stderr",
     "output_type": "stream",
     "text": [
      " 60%|██████████████████████████████████████████████████▍                                 | 3/5 [00:28<00:19,  9.82s/it]"
     ]
    },
    {
     "name": "stdout",
     "output_type": "stream",
     "text": [
      "1.6364494293696281\n"
     ]
    },
    {
     "name": "stderr",
     "output_type": "stream",
     "text": [
      " 80%|███████████████████████████████████████████████████████████████████▏                | 4/5 [00:41<00:10, 10.84s/it]"
     ]
    },
    {
     "name": "stdout",
     "output_type": "stream",
     "text": [
      "0.753695260152815\n"
     ]
    },
    {
     "name": "stderr",
     "output_type": "stream",
     "text": [
      "100%|████████████████████████████████████████████████████████████████████████████████████| 5/5 [00:55<00:00, 11.04s/it]\n"
     ]
    },
    {
     "name": "stdout",
     "output_type": "stream",
     "text": [
      "1.7588792239018392\n"
     ]
    },
    {
     "name": "stderr",
     "output_type": "stream",
     "text": [
      " 20%|████████████████▊                                                                   | 1/5 [00:11<00:46, 11.50s/it]"
     ]
    },
    {
     "name": "stdout",
     "output_type": "stream",
     "text": [
      "0.7677641195587661\n"
     ]
    },
    {
     "name": "stderr",
     "output_type": "stream",
     "text": [
      " 40%|█████████████████████████████████▌                                                  | 2/5 [00:23<00:35, 11.86s/it]"
     ]
    },
    {
     "name": "stdout",
     "output_type": "stream",
     "text": [
      "0.571771027219762\n"
     ]
    },
    {
     "name": "stderr",
     "output_type": "stream",
     "text": [
      " 60%|██████████████████████████████████████████████████▍                                 | 3/5 [00:36<00:24, 12.12s/it]"
     ]
    },
    {
     "name": "stdout",
     "output_type": "stream",
     "text": [
      "0.6297212776558412\n"
     ]
    },
    {
     "name": "stderr",
     "output_type": "stream",
     "text": [
      " 80%|███████████████████████████████████████████████████████████████████▏                | 4/5 [00:50<00:13, 13.22s/it]"
     ]
    },
    {
     "name": "stdout",
     "output_type": "stream",
     "text": [
      "0.40582420025988175\n"
     ]
    },
    {
     "name": "stderr",
     "output_type": "stream",
     "text": [
      "100%|████████████████████████████████████████████████████████████████████████████████████| 5/5 [01:06<00:00, 13.31s/it]\n"
     ]
    },
    {
     "name": "stdout",
     "output_type": "stream",
     "text": [
      "0.7229449452176153\n"
     ]
    },
    {
     "name": "stderr",
     "output_type": "stream",
     "text": [
      " 20%|████████████████▊                                                                   | 1/5 [00:05<00:20,  5.05s/it]"
     ]
    },
    {
     "name": "stdout",
     "output_type": "stream",
     "text": [
      "0.5085130149448348\n"
     ]
    },
    {
     "name": "stderr",
     "output_type": "stream",
     "text": [
      " 40%|█████████████████████████████████▌                                                  | 2/5 [00:15<00:25,  8.51s/it]"
     ]
    },
    {
     "name": "stdout",
     "output_type": "stream",
     "text": [
      "0.4654931153104516\n"
     ]
    },
    {
     "name": "stderr",
     "output_type": "stream",
     "text": [
      " 60%|██████████████████████████████████████████████████▍                                 | 3/5 [00:23<00:15,  7.91s/it]"
     ]
    },
    {
     "name": "stdout",
     "output_type": "stream",
     "text": [
      "0.47855966423246904\n"
     ]
    },
    {
     "name": "stderr",
     "output_type": "stream",
     "text": [
      " 80%|███████████████████████████████████████████████████████████████████▏                | 4/5 [00:30<00:07,  7.66s/it]"
     ]
    },
    {
     "name": "stdout",
     "output_type": "stream",
     "text": [
      "0.3583295424487944\n"
     ]
    },
    {
     "name": "stderr",
     "output_type": "stream",
     "text": [
      "100%|████████████████████████████████████████████████████████████████████████████████████| 5/5 [00:37<00:00,  7.55s/it]\n"
     ]
    },
    {
     "name": "stdout",
     "output_type": "stream",
     "text": [
      "0.5237637934605852\n"
     ]
    },
    {
     "name": "stderr",
     "output_type": "stream",
     "text": [
      " 20%|████████████████▊                                                                   | 1/5 [00:02<00:11,  2.86s/it]"
     ]
    },
    {
     "name": "stdout",
     "output_type": "stream",
     "text": [
      "0.47300363275663165\n"
     ]
    },
    {
     "name": "stderr",
     "output_type": "stream",
     "text": [
      " 40%|█████████████████████████████████▌                                                  | 2/5 [00:06<00:10,  3.56s/it]"
     ]
    },
    {
     "name": "stdout",
     "output_type": "stream",
     "text": [
      "0.4670727684192797\n"
     ]
    },
    {
     "name": "stderr",
     "output_type": "stream",
     "text": [
      " 60%|██████████████████████████████████████████████████▍                                 | 3/5 [00:09<00:06,  3.15s/it]"
     ]
    },
    {
     "name": "stdout",
     "output_type": "stream",
     "text": [
      "0.46192587041416844\n"
     ]
    },
    {
     "name": "stderr",
     "output_type": "stream",
     "text": [
      " 80%|███████████████████████████████████████████████████████████████████▏                | 4/5 [00:14<00:03,  3.95s/it]"
     ]
    },
    {
     "name": "stdout",
     "output_type": "stream",
     "text": [
      "0.3246939959895179\n"
     ]
    },
    {
     "name": "stderr",
     "output_type": "stream",
     "text": [
      "100%|████████████████████████████████████████████████████████████████████████████████████| 5/5 [00:17<00:00,  3.57s/it]\n"
     ]
    },
    {
     "name": "stdout",
     "output_type": "stream",
     "text": [
      "0.6723526204240301\n"
     ]
    },
    {
     "name": "stderr",
     "output_type": "stream",
     "text": [
      " 20%|████████████████▊                                                                   | 1/5 [00:17<01:09, 17.43s/it]"
     ]
    },
    {
     "name": "stdout",
     "output_type": "stream",
     "text": [
      "1.3644178713373945\n"
     ]
    },
    {
     "name": "stderr",
     "output_type": "stream",
     "text": [
      " 40%|█████████████████████████████████▌                                                  | 2/5 [00:37<00:57, 19.13s/it]"
     ]
    },
    {
     "name": "stdout",
     "output_type": "stream",
     "text": [
      "1.0327311161387291\n"
     ]
    },
    {
     "name": "stderr",
     "output_type": "stream",
     "text": [
      " 60%|██████████████████████████████████████████████████▍                                 | 3/5 [01:01<00:42, 21.44s/it]"
     ]
    },
    {
     "name": "stdout",
     "output_type": "stream",
     "text": [
      "1.4308448112678605\n"
     ]
    },
    {
     "name": "stderr",
     "output_type": "stream",
     "text": [
      " 80%|███████████████████████████████████████████████████████████████████▏                | 4/5 [01:28<00:23, 23.44s/it]"
     ]
    },
    {
     "name": "stdout",
     "output_type": "stream",
     "text": [
      "0.6732579727865854\n"
     ]
    },
    {
     "name": "stderr",
     "output_type": "stream",
     "text": [
      "100%|████████████████████████████████████████████████████████████████████████████████████| 5/5 [01:58<00:00, 23.73s/it]\n"
     ]
    },
    {
     "name": "stdout",
     "output_type": "stream",
     "text": [
      "1.5183897851265167\n"
     ]
    },
    {
     "name": "stderr",
     "output_type": "stream",
     "text": [
      " 20%|████████████████▊                                                                   | 1/5 [00:21<01:25, 21.37s/it]"
     ]
    },
    {
     "name": "stdout",
     "output_type": "stream",
     "text": [
      "0.6294099080118816\n"
     ]
    },
    {
     "name": "stderr",
     "output_type": "stream",
     "text": [
      " 40%|█████████████████████████████████▌                                                  | 2/5 [00:43<01:05, 21.94s/it]"
     ]
    },
    {
     "name": "stdout",
     "output_type": "stream",
     "text": [
      "0.48357507996426913\n"
     ]
    },
    {
     "name": "stderr",
     "output_type": "stream",
     "text": [
      " 60%|██████████████████████████████████████████████████▍                                 | 3/5 [01:06<00:44, 22.48s/it]"
     ]
    },
    {
     "name": "stdout",
     "output_type": "stream",
     "text": [
      "0.49526590319613084\n"
     ]
    },
    {
     "name": "stderr",
     "output_type": "stream",
     "text": [
      " 80%|███████████████████████████████████████████████████████████████████▏                | 4/5 [01:34<00:24, 24.51s/it]"
     ]
    },
    {
     "name": "stdout",
     "output_type": "stream",
     "text": [
      "0.34950168781061713\n"
     ]
    },
    {
     "name": "stderr",
     "output_type": "stream",
     "text": [
      "100%|████████████████████████████████████████████████████████████████████████████████████| 5/5 [01:58<00:00, 23.73s/it]\n"
     ]
    },
    {
     "name": "stdout",
     "output_type": "stream",
     "text": [
      "0.6184826512276023\n"
     ]
    },
    {
     "name": "stderr",
     "output_type": "stream",
     "text": [
      " 20%|████████████████▊                                                                   | 1/5 [00:05<00:20,  5.16s/it]"
     ]
    },
    {
     "name": "stdout",
     "output_type": "stream",
     "text": [
      "0.5085130149448348\n"
     ]
    },
    {
     "name": "stderr",
     "output_type": "stream",
     "text": [
      " 40%|█████████████████████████████████▌                                                  | 2/5 [00:22<00:37, 12.41s/it]"
     ]
    },
    {
     "name": "stdout",
     "output_type": "stream",
     "text": [
      "0.4550961411617215\n"
     ]
    },
    {
     "name": "stderr",
     "output_type": "stream",
     "text": [
      " 60%|██████████████████████████████████████████████████▍                                 | 3/5 [00:30<00:20, 10.18s/it]"
     ]
    },
    {
     "name": "stdout",
     "output_type": "stream",
     "text": [
      "0.47855966423246904\n"
     ]
    },
    {
     "name": "stderr",
     "output_type": "stream",
     "text": [
      " 80%|███████████████████████████████████████████████████████████████████▏                | 4/5 [00:37<00:09,  9.00s/it]"
     ]
    },
    {
     "name": "stdout",
     "output_type": "stream",
     "text": [
      "0.3583295424487944\n"
     ]
    },
    {
     "name": "stderr",
     "output_type": "stream",
     "text": [
      "100%|████████████████████████████████████████████████████████████████████████████████████| 5/5 [00:44<00:00,  8.95s/it]\n"
     ]
    },
    {
     "name": "stdout",
     "output_type": "stream",
     "text": [
      "0.5237637934605852\n"
     ]
    },
    {
     "name": "stderr",
     "output_type": "stream",
     "text": [
      " 20%|████████████████▊                                                                   | 1/5 [00:03<00:12,  3.01s/it]"
     ]
    },
    {
     "name": "stdout",
     "output_type": "stream",
     "text": [
      "0.47300363275663165\n"
     ]
    },
    {
     "name": "stderr",
     "output_type": "stream",
     "text": [
      " 40%|█████████████████████████████████▌                                                  | 2/5 [00:07<00:11,  3.67s/it]"
     ]
    },
    {
     "name": "stdout",
     "output_type": "stream",
     "text": [
      "0.4670727684192797\n"
     ]
    },
    {
     "name": "stderr",
     "output_type": "stream",
     "text": [
      " 60%|██████████████████████████████████████████████████▍                                 | 3/5 [00:10<00:06,  3.31s/it]"
     ]
    },
    {
     "name": "stdout",
     "output_type": "stream",
     "text": [
      "0.46192587041416844\n"
     ]
    },
    {
     "name": "stderr",
     "output_type": "stream",
     "text": [
      " 80%|███████████████████████████████████████████████████████████████████▏                | 4/5 [00:15<00:04,  4.22s/it]"
     ]
    },
    {
     "name": "stdout",
     "output_type": "stream",
     "text": [
      "0.3246939959895179\n"
     ]
    },
    {
     "name": "stderr",
     "output_type": "stream",
     "text": [
      "100%|████████████████████████████████████████████████████████████████████████████████████| 5/5 [00:18<00:00,  3.78s/it]"
     ]
    },
    {
     "name": "stdout",
     "output_type": "stream",
     "text": [
      "0.6723526204240301\n",
      "Best parameters found:  {'depth': 10, 'iterations': 200, 'learning_rate': 0.05}\n",
      "Lowest MAPE found:  0.3050132208788457\n"
     ]
    },
    {
     "name": "stderr",
     "output_type": "stream",
     "text": [
      "\n"
     ]
    },
    {
     "data": {
      "text/plain": [
       "<catboost.core.CatBoostRegressor at 0x24f40ad1e80>"
      ]
     },
     "execution_count": 30,
     "metadata": {},
     "output_type": "execute_result"
    }
   ],
   "source": [
    "from catboost import CatBoostRegressor, Pool\n",
    "from sklearn.model_selection import TimeSeriesSplit\n",
    "from sklearn.metrics import mean_absolute_error\n",
    "from sklearn.model_selection import ParameterGrid\n",
    "\n",
    "\n",
    "# Определение параметров для GridSearch\n",
    "param_grid = {\n",
    "    'iterations': [200, 400],\n",
    "    'depth': [10, 12],\n",
    "    'learning_rate': [0.001, 0.01, 0.05, 0.1]\n",
    "}\n",
    "\n",
    "# Создание TimeSeriesSplit\n",
    "tscv = TimeSeriesSplit(n_splits=5)\n",
    "\n",
    "# Создание объекта Pool для CatBoost\n",
    "train_pool = Pool(X_train, label=y_train, cat_features=cat_indices)\n",
    "\n",
    "best_mape = float('inf')\n",
    "best_params = None\n",
    "\n",
    "for params in ParameterGrid(param_grid):\n",
    "    cat_model = CatBoostRegressor(cat_features=cat_indices, loss_function='MAPE', thread_count=-1, random_seed=55, **params)\n",
    "    \n",
    "    for i, (train_index, val_index) in enumerate(tqdm(tscv.split(X_train), total=tscv.get_n_splits())):\n",
    "        X_train_fold, X_val_fold = X_train.iloc[train_index], X_train.iloc[val_index]\n",
    "        y_train_fold, y_val_fold = y_train.iloc[train_index], y_train.iloc[val_index]\n",
    "\n",
    "        cat_model.fit(X_train_fold, y_train_fold, eval_set=(X_val_fold, y_val_fold), verbose=0, plot=False, early_stopping_rounds=10)\n",
    "\n",
    "        y_val_pred = cat_model.predict(X_val_fold)\n",
    "        mape = mean_absolute_percentage_error(y_val_fold, y_val_pred)\n",
    "        print(mape)\n",
    "        if mape < best_mape:\n",
    "            best_mape = mape\n",
    "            best_params = params\n",
    "\n",
    "# Вывод результатов\n",
    "print(\"Best parameters found: \", best_params)\n",
    "print(\"Lowest MAPE found: \", best_mape)\n",
    "\n",
    "# Использование лучших параметров для обучения модели\n",
    "final_cat_model = CatBoostRegressor(cat_features=cat_indices, **best_params)\n",
    "final_cat_model.fit(X_train, y_train, verbose=0)\n",
    "\n"
   ]
  },
  {
   "cell_type": "code",
   "execution_count": 31,
   "id": "6fbf9f2e-ba9b-4dd8-9471-847074eb1b63",
   "metadata": {},
   "outputs": [
    {
     "name": "stdout",
     "output_type": "stream",
     "text": [
      "Validation MAPE: 0.5678786363460829, MAE: 0.25858692345329526\n"
     ]
    }
   ],
   "source": [
    "# Оценка на валидационном наборе\n",
    "y_val_pred = final_cat_model.predict(X_val)\n",
    "mape = mean_absolute_percentage_error(y_val, y_val_pred)\n",
    "mae = mean_absolute_error(y_val, y_val_pred)\n",
    "print(f'Validation MAPE: {mape}, MAE: {mae}')\n"
   ]
  },
  {
   "cell_type": "code",
   "execution_count": 69,
   "id": "2d18f862-c255-4331-8a2f-1cd52ee74122",
   "metadata": {},
   "outputs": [
    {
     "data": {
      "text/plain": [
       "{'depth': 10, 'iterations': 500, 'learning_rate': 0.05}"
      ]
     },
     "execution_count": 69,
     "metadata": {},
     "output_type": "execute_result"
    }
   ],
   "source": [
    "best_params"
   ]
  },
  {
   "cell_type": "code",
   "execution_count": null,
   "id": "cc8a4379-7884-4b7c-b673-d81ff9d0a9ed",
   "metadata": {},
   "outputs": [],
   "source": [
    "{'depth': 10, 'iterations': 200, 'learning_rate': 0.05}"
   ]
  },
  {
   "cell_type": "code",
   "execution_count": 40,
   "id": "734f3c00-5496-4632-84ac-d7ad6db3b50a",
   "metadata": {},
   "outputs": [
    {
     "name": "stderr",
     "output_type": "stream",
     "text": [
      "  0%|                                                                                            | 0/5 [00:00<?, ?it/s]"
     ]
    },
    {
     "name": "stdout",
     "output_type": "stream",
     "text": [
      "Fold 0\n"
     ]
    },
    {
     "name": "stderr",
     "output_type": "stream",
     "text": [
      " 20%|████████████████▊                                                                   | 1/5 [00:22<01:31, 22.80s/it]"
     ]
    },
    {
     "name": "stdout",
     "output_type": "stream",
     "text": [
      "MAPE: 0.25630843848399415, MAPE_castom: 25.630843848399415, MAE: 0.2006464085643484\n",
      "Fold 1\n"
     ]
    },
    {
     "name": "stderr",
     "output_type": "stream",
     "text": [
      " 40%|█████████████████████████████████▌                                                  | 2/5 [00:49<01:15, 25.15s/it]"
     ]
    },
    {
     "name": "stdout",
     "output_type": "stream",
     "text": [
      "MAPE: 0.24961531673790427, MAPE_castom: 24.961531673790425, MAE: 0.18402936784911375\n",
      "Fold 2\n"
     ]
    },
    {
     "name": "stderr",
     "output_type": "stream",
     "text": [
      " 60%|██████████████████████████████████████████████████▍                                 | 3/5 [01:14<00:49, 24.86s/it]"
     ]
    },
    {
     "name": "stdout",
     "output_type": "stream",
     "text": [
      "MAPE: 0.2592245119488501, MAPE_castom: 25.92245119488501, MAE: 0.18707292317717003\n",
      "Fold 3\n"
     ]
    },
    {
     "name": "stderr",
     "output_type": "stream",
     "text": [
      " 80%|███████████████████████████████████████████████████████████████████▏                | 4/5 [01:42<00:26, 26.07s/it]"
     ]
    },
    {
     "name": "stdout",
     "output_type": "stream",
     "text": [
      "MAPE: 0.2089554440787493, MAPE_castom: 20.89554440787493, MAE: 0.15808924511788428\n",
      "Fold 4\n"
     ]
    },
    {
     "name": "stderr",
     "output_type": "stream",
     "text": [
      "100%|████████████████████████████████████████████████████████████████████████████████████| 5/5 [02:06<00:00, 25.34s/it]"
     ]
    },
    {
     "name": "stdout",
     "output_type": "stream",
     "text": [
      "MAPE: 0.290315526476579, MAPE_castom: 29.0315526476579, MAE: 0.19309584170554694\n"
     ]
    },
    {
     "name": "stderr",
     "output_type": "stream",
     "text": [
      "\n"
     ]
    }
   ],
   "source": [
    "cat_cols = [\n",
    "            'part_of_day_programme_start',\n",
    "            'part_of_day_programme_end',\n",
    "            'holiday',\n",
    "            'month',\n",
    "            # 'hour_break_start',\n",
    "            'part_of_day_break_start',\n",
    "            # 'hour_programme_start',\n",
    "            'part_of_day_programme_start',\n",
    "            # 'hour_programme_end',\n",
    "            'part_of_day_programme_end',\n",
    "             # 'is_cristmas',\n",
    "             #    'is_23_feb',\n",
    "             #    'is_8_march',\n",
    "             #    'is_1_may',\n",
    "             #    'is_9_may',\n",
    "             #    'is_12_june',\n",
    "             #    'is_4_nov',\n",
    "                'is_weekend'\n",
    "\n",
    "   \n",
    "           \n",
    "           ]\n",
    "best_params = {'depth': 10, 'iterations': 500, 'learning_rate': 0.05}\n",
    "cat_indices = [X_train.columns.tolist().index(i) for i in cat_cols]\n",
    "\n",
    "cat_model = CatBoostRegressor(cat_features=cat_indices, verbose=0, random_seed=55, loss_function='MAPE', thread_count=-1, **best_params)\n",
    "report = []\n",
    "for i, (train_index, val_index) in enumerate(tqdm(tscv.split(X_train), total=tscv.get_n_splits())):\n",
    "    print(f'Fold {i}')\n",
    "    \n",
    "    X_train_, X_val_ = X_train.iloc[train_index], X_train.iloc[val_index]\n",
    "    y_train_, y_val_ = y_train.iloc[train_index], y_train.iloc[val_index]\n",
    "\n",
    "    cat_model.fit(X_train, y_train)\n",
    "    y_pred = cat_model.predict(X_val_)\n",
    "    \n",
    "    # y_pred = np.exp(y_pred) - 1\n",
    "    mape = mean_absolute_percentage_error(y_val_, y_pred)\n",
    "    mape_c = mean_absolute_percentage_error_castom(y_val_, y_pred)\n",
    "    mae = mean_absolute_error(y_val_, y_pred)\n",
    "    print(f'MAPE: {mape}, MAE: {mae}')"
   ]
  },
  {
   "cell_type": "code",
   "execution_count": 54,
   "id": "31c20c3e-f2d7-4021-a179-2f39971290d5",
   "metadata": {},
   "outputs": [],
   "source": [
    "cat_model.save_model('D:/X/cat_nodel.cbm')"
   ]
  },
  {
   "cell_type": "code",
   "execution_count": 49,
   "id": "3dbcca92-aed5-460d-a98f-fc3830e9e30a",
   "metadata": {},
   "outputs": [
    {
     "data": {
      "image/png": "[encoded data removed]",
      "text/plain": [
       "<Figure size 1000x600 with 1 Axes>"
      ]
     },
     "metadata": {},
     "output_type": "display_data"
    }
   ],
   "source": [
    "import matplotlib.pyplot as plt\n",
    "\n",
    "# Получение важности признаков\n",
    "feature_importance = cat_model.get_feature_importance(prettified=True)\n",
    "\n",
    "# Визуализация\n",
    "plt.figure(figsize=(10, 6))\n",
    "plt.barh(feature_importance['Feature Id'], feature_importance['Importances'])\n",
    "plt.xlabel('Importance')\n",
    "plt.ylabel('Feature')\n",
    "plt.title('Feature Importance')\n",
    "plt.show()"
   ]
  },
  {
   "cell_type": "markdown",
   "id": "6ac427a2-4bba-4e56-8afa-6767925abd86",
   "metadata": {},
   "source": [
    "# Submit"
   ]
  },
  {
   "cell_type": "code",
   "execution_count": 58,
   "id": "0abf8dd0-533b-416a-91fd-0aee8972f3b1",
   "metadata": {
    "scrolled": true
   },
   "outputs": [
    {
     "ename": "KeyError",
     "evalue": "\"['Date'] not found in axis\"",
     "output_type": "error",
     "traceback": [
      "\u001b[1;31m---------------------------------------------------------------------------\u001b[0m",
      "\u001b[1;31mKeyError\u001b[0m                                  Traceback (most recent call last)",
      "Cell \u001b[1;32mIn[58], line 1\u001b[0m\n\u001b[1;32m----> 1\u001b[0m test \u001b[38;5;241m=\u001b[39m \u001b[43mtest\u001b[49m\u001b[38;5;241;43m.\u001b[39;49m\u001b[43mdrop\u001b[49m\u001b[43m(\u001b[49m\u001b[38;5;124;43m'\u001b[39;49m\u001b[38;5;124;43mDate\u001b[39;49m\u001b[38;5;124;43m'\u001b[39;49m\u001b[43m,\u001b[49m\u001b[43m \u001b[49m\u001b[43maxis\u001b[49m\u001b[38;5;241;43m=\u001b[39;49m\u001b[38;5;241;43m1\u001b[39;49m\u001b[43m)\u001b[49m\n",
      "File \u001b[1;32m~\\env3.9.13\\lib\\site-packages\\pandas\\core\\frame.py:5347\u001b[0m, in \u001b[0;36mDataFrame.drop\u001b[1;34m(self, labels, axis, index, columns, level, inplace, errors)\u001b[0m\n\u001b[0;32m   5199\u001b[0m \u001b[38;5;28;01mdef\u001b[39;00m \u001b[38;5;21mdrop\u001b[39m(\n\u001b[0;32m   5200\u001b[0m     \u001b[38;5;28mself\u001b[39m,\n\u001b[0;32m   5201\u001b[0m     labels: IndexLabel \u001b[38;5;241m|\u001b[39m \u001b[38;5;28;01mNone\u001b[39;00m \u001b[38;5;241m=\u001b[39m \u001b[38;5;28;01mNone\u001b[39;00m,\n\u001b[1;32m   (...)\u001b[0m\n\u001b[0;32m   5208\u001b[0m     errors: IgnoreRaise \u001b[38;5;241m=\u001b[39m \u001b[38;5;124m\"\u001b[39m\u001b[38;5;124mraise\u001b[39m\u001b[38;5;124m\"\u001b[39m,\n\u001b[0;32m   5209\u001b[0m ) \u001b[38;5;241m-\u001b[39m\u001b[38;5;241m>\u001b[39m DataFrame \u001b[38;5;241m|\u001b[39m \u001b[38;5;28;01mNone\u001b[39;00m:\n\u001b[0;32m   5210\u001b[0m \u001b[38;5;250m    \u001b[39m\u001b[38;5;124;03m\"\"\"\u001b[39;00m\n\u001b[0;32m   5211\u001b[0m \u001b[38;5;124;03m    Drop specified labels from rows or columns.\u001b[39;00m\n\u001b[0;32m   5212\u001b[0m \n\u001b[1;32m   (...)\u001b[0m\n\u001b[0;32m   5345\u001b[0m \u001b[38;5;124;03m            weight  1.0     0.8\u001b[39;00m\n\u001b[0;32m   5346\u001b[0m \u001b[38;5;124;03m    \"\"\"\u001b[39;00m\n\u001b[1;32m-> 5347\u001b[0m     \u001b[38;5;28;01mreturn\u001b[39;00m \u001b[38;5;28;43msuper\u001b[39;49m\u001b[43m(\u001b[49m\u001b[43m)\u001b[49m\u001b[38;5;241;43m.\u001b[39;49m\u001b[43mdrop\u001b[49m\u001b[43m(\u001b[49m\n\u001b[0;32m   5348\u001b[0m \u001b[43m        \u001b[49m\u001b[43mlabels\u001b[49m\u001b[38;5;241;43m=\u001b[39;49m\u001b[43mlabels\u001b[49m\u001b[43m,\u001b[49m\n\u001b[0;32m   5349\u001b[0m \u001b[43m        \u001b[49m\u001b[43maxis\u001b[49m\u001b[38;5;241;43m=\u001b[39;49m\u001b[43maxis\u001b[49m\u001b[43m,\u001b[49m\n\u001b[0;32m   5350\u001b[0m \u001b[43m        \u001b[49m\u001b[43mindex\u001b[49m\u001b[38;5;241;43m=\u001b[39;49m\u001b[43mindex\u001b[49m\u001b[43m,\u001b[49m\n\u001b[0;32m   5351\u001b[0m \u001b[43m        \u001b[49m\u001b[43mcolumns\u001b[49m\u001b[38;5;241;43m=\u001b[39;49m\u001b[43mcolumns\u001b[49m\u001b[43m,\u001b[49m\n\u001b[0;32m   5352\u001b[0m \u001b[43m        \u001b[49m\u001b[43mlevel\u001b[49m\u001b[38;5;241;43m=\u001b[39;49m\u001b[43mlevel\u001b[49m\u001b[43m,\u001b[49m\n\u001b[0;32m   5353\u001b[0m \u001b[43m        \u001b[49m\u001b[43minplace\u001b[49m\u001b[38;5;241;43m=\u001b[39;49m\u001b[43minplace\u001b[49m\u001b[43m,\u001b[49m\n\u001b[0;32m   5354\u001b[0m \u001b[43m        \u001b[49m\u001b[43merrors\u001b[49m\u001b[38;5;241;43m=\u001b[39;49m\u001b[43merrors\u001b[49m\u001b[43m,\u001b[49m\n\u001b[0;32m   5355\u001b[0m \u001b[43m    \u001b[49m\u001b[43m)\u001b[49m\n",
      "File \u001b[1;32m~\\env3.9.13\\lib\\site-packages\\pandas\\core\\generic.py:4711\u001b[0m, in \u001b[0;36mNDFrame.drop\u001b[1;34m(self, labels, axis, index, columns, level, inplace, errors)\u001b[0m\n\u001b[0;32m   4709\u001b[0m \u001b[38;5;28;01mfor\u001b[39;00m axis, labels \u001b[38;5;129;01min\u001b[39;00m axes\u001b[38;5;241m.\u001b[39mitems():\n\u001b[0;32m   4710\u001b[0m     \u001b[38;5;28;01mif\u001b[39;00m labels \u001b[38;5;129;01mis\u001b[39;00m \u001b[38;5;129;01mnot\u001b[39;00m \u001b[38;5;28;01mNone\u001b[39;00m:\n\u001b[1;32m-> 4711\u001b[0m         obj \u001b[38;5;241m=\u001b[39m \u001b[43mobj\u001b[49m\u001b[38;5;241;43m.\u001b[39;49m\u001b[43m_drop_axis\u001b[49m\u001b[43m(\u001b[49m\u001b[43mlabels\u001b[49m\u001b[43m,\u001b[49m\u001b[43m \u001b[49m\u001b[43maxis\u001b[49m\u001b[43m,\u001b[49m\u001b[43m \u001b[49m\u001b[43mlevel\u001b[49m\u001b[38;5;241;43m=\u001b[39;49m\u001b[43mlevel\u001b[49m\u001b[43m,\u001b[49m\u001b[43m \u001b[49m\u001b[43merrors\u001b[49m\u001b[38;5;241;43m=\u001b[39;49m\u001b[43merrors\u001b[49m\u001b[43m)\u001b[49m\n\u001b[0;32m   4713\u001b[0m \u001b[38;5;28;01mif\u001b[39;00m inplace:\n\u001b[0;32m   4714\u001b[0m     \u001b[38;5;28mself\u001b[39m\u001b[38;5;241m.\u001b[39m_update_inplace(obj)\n",
      "File \u001b[1;32m~\\env3.9.13\\lib\\site-packages\\pandas\\core\\generic.py:4753\u001b[0m, in \u001b[0;36mNDFrame._drop_axis\u001b[1;34m(self, labels, axis, level, errors, only_slice)\u001b[0m\n\u001b[0;32m   4751\u001b[0m         new_axis \u001b[38;5;241m=\u001b[39m axis\u001b[38;5;241m.\u001b[39mdrop(labels, level\u001b[38;5;241m=\u001b[39mlevel, errors\u001b[38;5;241m=\u001b[39merrors)\n\u001b[0;32m   4752\u001b[0m     \u001b[38;5;28;01melse\u001b[39;00m:\n\u001b[1;32m-> 4753\u001b[0m         new_axis \u001b[38;5;241m=\u001b[39m \u001b[43maxis\u001b[49m\u001b[38;5;241;43m.\u001b[39;49m\u001b[43mdrop\u001b[49m\u001b[43m(\u001b[49m\u001b[43mlabels\u001b[49m\u001b[43m,\u001b[49m\u001b[43m \u001b[49m\u001b[43merrors\u001b[49m\u001b[38;5;241;43m=\u001b[39;49m\u001b[43merrors\u001b[49m\u001b[43m)\u001b[49m\n\u001b[0;32m   4754\u001b[0m     indexer \u001b[38;5;241m=\u001b[39m axis\u001b[38;5;241m.\u001b[39mget_indexer(new_axis)\n\u001b[0;32m   4756\u001b[0m \u001b[38;5;66;03m# Case for non-unique axis\u001b[39;00m\n\u001b[0;32m   4757\u001b[0m \u001b[38;5;28;01melse\u001b[39;00m:\n",
      "File \u001b[1;32m~\\env3.9.13\\lib\\site-packages\\pandas\\core\\indexes\\base.py:6992\u001b[0m, in \u001b[0;36mIndex.drop\u001b[1;34m(self, labels, errors)\u001b[0m\n\u001b[0;32m   6990\u001b[0m \u001b[38;5;28;01mif\u001b[39;00m mask\u001b[38;5;241m.\u001b[39many():\n\u001b[0;32m   6991\u001b[0m     \u001b[38;5;28;01mif\u001b[39;00m errors \u001b[38;5;241m!=\u001b[39m \u001b[38;5;124m\"\u001b[39m\u001b[38;5;124mignore\u001b[39m\u001b[38;5;124m\"\u001b[39m:\n\u001b[1;32m-> 6992\u001b[0m         \u001b[38;5;28;01mraise\u001b[39;00m \u001b[38;5;167;01mKeyError\u001b[39;00m(\u001b[38;5;124mf\u001b[39m\u001b[38;5;124m\"\u001b[39m\u001b[38;5;132;01m{\u001b[39;00mlabels[mask]\u001b[38;5;241m.\u001b[39mtolist()\u001b[38;5;132;01m}\u001b[39;00m\u001b[38;5;124m not found in axis\u001b[39m\u001b[38;5;124m\"\u001b[39m)\n\u001b[0;32m   6993\u001b[0m     indexer \u001b[38;5;241m=\u001b[39m indexer[\u001b[38;5;241m~\u001b[39mmask]\n\u001b[0;32m   6994\u001b[0m \u001b[38;5;28;01mreturn\u001b[39;00m \u001b[38;5;28mself\u001b[39m\u001b[38;5;241m.\u001b[39mdelete(indexer)\n",
      "\u001b[1;31mKeyError\u001b[0m: \"['Date'] not found in axis\""
     ]
    }
   ],
   "source": [
    "test = test.drop('Date', axis=1)"
   ]
  },
  {
   "cell_type": "code",
   "execution_count": 61,
   "id": "2b74ae75-e5f7-4467-912b-bbcacf6d7187",
   "metadata": {},
   "outputs": [],
   "source": [
    "pred = cat_model.predict(test)"
   ]
  },
  {
   "cell_type": "code",
   "execution_count": 63,
   "id": "4a0097e9-fec3-4bba-9f93-3529c97b3afe",
   "metadata": {},
   "outputs": [],
   "source": [
    "sub = pd.read_excel('D:/X/Данные для Хакатона Кейс 3 To send.xlsx', sheet_name='test data')"
   ]
  },
  {
   "cell_type": "code",
   "execution_count": 65,
   "id": "3bcc24dc-67a0-45ed-a52a-c06042eb3e61",
   "metadata": {},
   "outputs": [],
   "source": [
    "sub['TVR Index Forecast'] = pred"
   ]
  },
  {
   "cell_type": "code",
   "execution_count": 67,
   "id": "c0217a0a-2149-49c3-ba92-fd7f4bb87ecd",
   "metadata": {},
   "outputs": [],
   "source": [
    "sub.to_csv('./sub.csv', index_label=False)"
   ]
  }
 ],
 "metadata": {
  "kernelspec": {
   "display_name": "Python 3 (ipykernel)",
   "language": "python",
   "name": "python3"
  },
  "language_info": {
   "codemirror_mode": {
    "name": "ipython",
    "version": 3
   },
   "file_extension": ".py",
   "mimetype": "text/x-python",
   "name": "python",
   "nbconvert_exporter": "python",
   "pygments_lexer": "ipython3",
   "version": "3.9.13"
  }
 },
 "nbformat": 4,
 "nbformat_minor": 5
}
